{
 "cells": [
  {
   "cell_type": "markdown",
   "metadata": {},
   "source": [
    "# Introduction\n",
    "> A blurb about why this blog exists and more details than you want about me.\n",
    "\n",
    "- toc: true \n",
    "- badges: true\n",
    "- comments: true"
   ]
  },
  {
   "cell_type": "code",
   "execution_count": 1,
   "metadata": {},
   "outputs": [],
   "source": [
    "#hide\n",
    "import pandas as pd\n",
    "import altair as alt \n",
    "from vega_datasets import data"
   ]
  },
  {
   "cell_type": "markdown",
   "metadata": {},
   "source": [
    "## Why the blog?\n",
    "I've spent my career studying geology and physics and have a passion for understanding the cause of natural phenomena. I have lots of experience looking at large data sets - seismic, gravity, magnetics, electromagnetics, and miscellaneous subsurface geologic data. Most of these projects have been done in software like MATLAB, ArcGIS, or Spotfire.\n",
    "\n",
    "More recently, I've started learning python, git, and various modeling/visualization frameworks to bring my intuitions about data exploration and data analysis into the world of machine learning and replicable data science. Until now, I haven't had a clear project or structured place to put my side projects. From now on, this blog will serve as that space! Whether it's simple visualizations with geologic data or building neural networks to predict March Madness brackets - I will aim to document it here!\n",
    "\n",
    "## Where in the world?!\n",
    "I am currently a Gulf of Mexico exploration geophysicist for Hess Corporation in Houston, TX. I spend most of my time intepreting subsurface data and following seismic data reprocessing projects, but my past experiences have been much more varied. Below (and above!) are a few of my past roles and projects:\n",
    "\n",
    "* Past Experiences at Hess Corporation\n",
    "    * Building workflows for cataloging well-based seismic amplitude analysis at a regional scale - Gulf of Mexico, USA\n",
    "    * Stratigraphic mapping of regional shallow hazards - Tano Basin, Ghana\n",
    "    * Data visualization using Spotfire for a geochemistry database\n",
    "    * Basin Scale Play Evaluation for New Ventures - Atlantic Margins (Ireland, Brazil, Sierra Leone, South Africa, Mauritania, Senegal)\n",
    "    * Prospect analysis and well planning - Offshore Newfoundland, CA\n",
    "* Master's Thesis and Reserseach Assistant - University of Wyoming\n",
    "    * Processing and interpretation of airborne electromagnetic survey - Snowy Range, WY\n",
    "    * Geophysical data collection (Seismic refraction, ERT, GPR, Magnetics, NMR) - WY and CA\n",
    "* Undergraduate [senior thesis](https://digitalccbeta.coloradocollege.edu/pid/coccc:8121) and [IRIS](https://www.iris.edu/hq/) internship on repeating earthquakes near Christchurch, New Zealand - Research at University of Wisconsin - Madison (thesis at Colorado College)"
   ]
  },
  {
   "cell_type": "code",
   "execution_count": 74,
   "metadata": {},
   "outputs": [
    {
     "output_type": "execute_result",
     "data": {
      "text/html": "\n<div id=\"altair-viz-c453bc367eff4b2291f0915850eea6a8\"></div>\n<script type=\"text/javascript\">\n  (function(spec, embedOpt){\n    let outputDiv = document.currentScript.previousElementSibling;\n    if (outputDiv.id !== \"altair-viz-c453bc367eff4b2291f0915850eea6a8\") {\n      outputDiv = document.getElementById(\"altair-viz-c453bc367eff4b2291f0915850eea6a8\");\n    }\n    const paths = {\n      \"vega\": \"https://cdn.jsdelivr.net/npm//vega@5?noext\",\n      \"vega-lib\": \"https://cdn.jsdelivr.net/npm//vega-lib?noext\",\n      \"vega-lite\": \"https://cdn.jsdelivr.net/npm//vega-lite@4.8.1?noext\",\n      \"vega-embed\": \"https://cdn.jsdelivr.net/npm//vega-embed@6?noext\",\n    };\n\n    function loadScript(lib) {\n      return new Promise(function(resolve, reject) {\n        var s = document.createElement('script');\n        s.src = paths[lib];\n        s.async = true;\n        s.onload = () => resolve(paths[lib]);\n        s.onerror = () => reject(`Error loading script: ${paths[lib]}`);\n        document.getElementsByTagName(\"head\")[0].appendChild(s);\n      });\n    }\n\n    function showError(err) {\n      outputDiv.innerHTML = `<div class=\"error\" style=\"color:red;\">${err}</div>`;\n      throw err;\n    }\n\n    function displayChart(vegaEmbed) {\n      vegaEmbed(outputDiv, spec, embedOpt)\n        .catch(err => showError(`Javascript Error: ${err.message}<br>This usually means there's a typo in your chart specification. See the javascript console for the full traceback.`));\n    }\n\n    if(typeof define === \"function\" && define.amd) {\n      requirejs.config({paths});\n      require([\"vega-embed\"], displayChart, err => showError(`Error loading script: ${err.message}`));\n    } else if (typeof vegaEmbed === \"function\") {\n      displayChart(vegaEmbed);\n    } else {\n      loadScript(\"vega\")\n        .then(() => loadScript(\"vega-lite\"))\n        .then(() => loadScript(\"vega-embed\"))\n        .catch(showError)\n        .then(() => displayChart(vegaEmbed));\n    }\n  })({\"config\": {\"view\": {\"continuousWidth\": 400, \"continuousHeight\": 300, \"stroke\": null}}, \"layer\": [{\"data\": {\"sphere\": true}, \"mark\": {\"type\": \"geoshape\", \"fill\": \"rgb(220,220,220)\"}}, {\"data\": {\"url\": \"https://vega.github.io/vega-datasets/data/world-110m.json\", \"format\": {\"feature\": \"countries\", \"type\": \"topojson\"}}, \"mark\": {\"type\": \"geoshape\", \"fill\": \"rgb(255,255,255)\", \"stroke\": \"rgb(220,220,220)\"}}, {\"data\": {\"name\": \"data-cec273aed151d8e1b6f86ca4e391833b\"}, \"mark\": {\"type\": \"circle\", \"opacity\": 1, \"size\": 50}, \"encoding\": {\"color\": {\"type\": \"nominal\", \"field\": \"Experience\"}, \"latitude\": {\"field\": \"Lat\", \"type\": \"quantitative\"}, \"longitude\": {\"field\": \"Long\", \"type\": \"quantitative\"}, \"opacity\": {\"condition\": {\"value\": 0.95, \"selection\": \"Select\"}, \"value\": 0.15}, \"tooltip\": [{\"type\": \"nominal\", \"field\": \"Place\"}, {\"type\": \"nominal\", \"field\": \"Experience\"}, {\"type\": \"nominal\", \"field\": \"Description\"}]}, \"selection\": {\"Select\": {\"type\": \"single\", \"fields\": [\"Experience\"], \"init\": {\"Experience\": \"Remote Study\"}, \"bind\": {\"Experience\": {\"input\": \"select\", \"options\": [\"Remote Study\", \"Field Data Collection\", \"Education\", \"Field Trip\"]}}}}}], \"height\": 375, \"projection\": {\"type\": \"naturalEarth1\"}, \"width\": 700, \"$schema\": \"https://vega.github.io/schema/vega-lite/v4.8.1.json\", \"datasets\": {\"data-cec273aed151d8e1b6f86ca4e391833b\": [{\"Place\": \"Christchurch, New Zealand\", \"Lat\": -43.523672999999995, \"Long\": 172.584118, \"Experience\": \"Remote Study\", \"Description\": \"In 2011 I attended field camp in New Zealand and my study abroad in Christchurch was cut short by the 2011 Canterbury Earthquake. The following summer I studied the Canterbury region to identify repeating earthquakes within the aftershock sequence, which ultimately became my senior thesis at Colorado College.\"}, {\"Place\": \"Eel River Critical Zone Observatory, CA\", \"Lat\": 39.718345, \"Long\": -123.652625, \"Experience\": \"Field Data Collection\", \"Description\": \"Geophysical data collection (Seismic refraction, electrical resistivity, and surface nuclear magnetic resonance).\"}, {\"Place\": \"Snowy Range/Laramie Range, WY\", \"Lat\": 41.343634, \"Long\": -106.50226, \"Experience\": \"Field Data Collection\", \"Description\": \"My Master\\u2019s thesis at the University of Wyoming was an integrated interpretation of the Snowy Range watershed, combining existing remote sensing data and airbone electromagnetic data (acquired by SkyTEM).\"}, {\"Place\": \"Gulf of Mexico, U.S.\", \"Lat\": 27.040012, \"Long\": -92.737999, \"Experience\": \"Remote Study\", \"Description\": \"Various geophysical studies including seismic reflection data (pre-stack and stack) and well logs from the prospect scale to play scale across the GOM.\"}, {\"Place\": \"Ghana\", \"Lat\": 4.140224, \"Long\": -2.7299439999999997, \"Experience\": \"Remote Study\", \"Description\": \"Stratigraphic interpretation of seismic reflection data for regional shallow hazard interpretation\"}, {\"Place\": \"Porcupine Basin, Ireland\", \"Lat\": 50.91004, \"Long\": -12.607474, \"Experience\": \"Remote Study\", \"Description\": \"New Ventures - Basin play analysis\"}, {\"Place\": \"Sergipe, Brazil\", \"Lat\": -11.16054, \"Long\": -36.582305, \"Experience\": \"Remote Study\", \"Description\": \"Seismic reflection interpretation\"}, {\"Place\": \"French Guiana\", \"Lat\": 6.253583, \"Long\": -51.223347, \"Experience\": \"Remote Study\", \"Description\": \"New Ventures - Basin play analysis and prospect evaluation\"}, {\"Place\": \"Sierra Leone\", \"Lat\": 6.832838000000001, \"Long\": -12.358791, \"Experience\": \"Remote Study\", \"Description\": \"New Ventures - Basin play analysis\"}, {\"Place\": \"Offshore Newfoundland, CA\", \"Lat\": 56.149432, \"Long\": -53.327567, \"Experience\": \"Remote Study\", \"Description\": \"Prospect analysis and well planning\"}, {\"Place\": \"South Africa\", \"Lat\": -35.402522999999995, \"Long\": 17.756566, \"Experience\": \"Remote Study\", \"Description\": \"New Ventures - Basin play analysis\"}, {\"Place\": \"Mauritania\", \"Lat\": 17.840142999999998, \"Long\": -17.204083999999998, \"Experience\": \"Remote Study\", \"Description\": \"New Ventures - Basin play analysis and prospect evaluation\"}, {\"Place\": \"Colorado College\", \"Lat\": 38.848814000000004, \"Long\": -104.82287, \"Experience\": \"Education\", \"Description\": \"B.A. in Geology and Physics 2013\"}, {\"Place\": \"University of Wyoming\", \"Lat\": 41.314515, \"Long\": -105.083647, \"Experience\": \"Education\", \"Description\": \"M.S. in Geophysics 2015\"}, {\"Place\": \"La Jolla, CA\", \"Lat\": 32.844702000000005, \"Long\": -117.279075, \"Experience\": \"Field Trip\", \"Description\": \"Stratigraphic sequences of deep water turbidites\"}, {\"Place\": \"New Zealand\", \"Lat\": -39.282927, \"Long\": 175.567631, \"Experience\": \"Field Trip\", \"Description\": \"Frontiers Abroad field camp around the North and South Island\\u2019s of New Zealand\"}, {\"Place\": \"Utah\", \"Lat\": 37.426002000000004, \"Long\": -110.980594, \"Experience\": \"Field Trip\", \"Description\": \"Various field trips related to salt basins, stratigraphy, and source rocks.\"}, {\"Place\": \"Rio Grande Rift, CO/NM\", \"Lat\": 37.261514, \"Long\": -105.76544399999999, \"Experience\": \"Field Trip\", \"Description\": \"Rio Grande Rift and plate tectonics\"}, {\"Place\": \"Death Valley, CA\", \"Lat\": 36.464563, \"Long\": -117.01251599999999, \"Experience\": \"Field Trip\", \"Description\": \"Death Valley rift tectonics and structure field trip\"}, {\"Place\": \"Washington State, CA\", \"Lat\": 47.631513, \"Long\": -122.52166799999999, \"Experience\": \"Field Trip\", \"Description\": \"Regional geology of Washington state\"}, {\"Place\": \"Yellowstone, WY\", \"Lat\": 44.3413, \"Long\": -110.40563600000002, \"Experience\": \"Field Trip\", \"Description\": \"Volcanics and structural geology\"}, {\"Place\": \"Hot Springs, AR\", \"Lat\": 34.510708, \"Long\": -93.04945699999999, \"Experience\": \"Field Trip\", \"Description\": \"Sedimentology and stratigraphy of the Jack Fork Group\"}]}}, {\"mode\": \"vega-lite\"});\n</script>",
      "text/plain": "alt.LayerChart(...)"
     },
     "metadata": {},
     "execution_count": 74
    }
   ],
   "source": [
    "#hide_input\n",
    "\n",
    "# df = pd.read_csv('https://raw.githubusercontent.com/rysarmstr/Data-Bites-Blog/master/data/life.csv')\n",
    "df = pd.read_csv('./data/2020-04-25-Introduction/life.csv')\n",
    "experiences = list(df['Experience'].unique())\n",
    "\n",
    "selection = alt.selection_single(\n",
    "    name='Select',\n",
    "    fields=['Experience'],\n",
    "    init={'Experience': experiences[0]},\n",
    "    bind={'Experience': alt.binding_select(options=experiences)}\n",
    ")\n",
    "\n",
    "# Data generators for the background\n",
    "sphere = alt.sphere()\n",
    "graticule = alt.graticule()\n",
    "\n",
    "# Source of land data\n",
    "source = alt.topo_feature(data.world_110m.url, 'countries')\n",
    "\n",
    "# Layering and configuring the components\n",
    "background = alt.layer(\n",
    "    alt.Chart(sphere).mark_geoshape(fill='rgb(220,220,220)'),\n",
    "    alt.Chart(source).mark_geoshape(fill='rgb(255,255,255)', stroke='rgb(220,220,220)')\n",
    ").project(\n",
    "    'naturalEarth1'\n",
    ").properties(width=700, height=375).configure_view(stroke=None)\n",
    "points = alt.Chart(df).mark_circle(size=50,opacity=1).add_selection(selection).encode(\n",
    "    longitude='Long:Q',\n",
    "    latitude='Lat:Q',\n",
    "    color=alt.Color('Experience:N'),\n",
    "    tooltip=['Place:N','Experience:N','Description:N'],\n",
    "    opacity=alt.condition(selection, alt.value(0.95), alt.value(0.15)))\n",
    "\n",
    "background+points"
   ]
  }
 ],
 "metadata": {
  "language_info": {
   "codemirror_mode": {
    "name": "ipython",
    "version": 3
   },
   "file_extension": ".py",
   "mimetype": "text/x-python",
   "name": "python",
   "nbconvert_exporter": "python",
   "pygments_lexer": "ipython3",
   "version": "3.7.6-final"
  },
  "orig_nbformat": 2,
  "kernelspec": {
   "name": "python37664bitds37conda5b54538e10044b30b075f62462e020ad",
   "display_name": "Python 3.7.6 64-bit ('ds37': conda)"
  }
 },
 "nbformat": 4,
 "nbformat_minor": 2
}