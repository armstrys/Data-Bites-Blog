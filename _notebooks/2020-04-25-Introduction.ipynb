{
 "cells": [
  {
   "cell_type": "markdown",
   "metadata": {},
   "source": [
    "# Introduction\n",
    "> A brief intro to me and what you'llf ind in this blog.\n",
    "\n",
    "- toc: true \n",
    "- stick_rank: 1\n",
    "- badges: true\n",
    "- comments: true\n",
    "- categories: [jupyter]"
   ]
  },
  {
   "cell_type": "code",
   "execution_count": 47,
   "metadata": {},
   "outputs": [],
   "source": [
    "#hide\n",
    "import pandas as pd\n",
    "import io\n",
    "import requests\n",
    "import numpy as np \n",
    "import altair as alt \n",
    "from vega_datasets import data\n"
   ]
  },
  {
   "cell_type": "markdown",
   "metadata": {},
   "source": [
    "## What is this?\n",
    "    \n",
    "\n",
    "## Where in the world?"
   ]
  },
  {
   "cell_type": "code",
   "execution_count": 51,
   "metadata": {},
   "outputs": [
    {
     "output_type": "execute_result",
     "data": {
      "text/html": "\n<div id=\"altair-viz-66518c41df0a4fc0b26a2c366af5b894\"></div>\n<script type=\"text/javascript\">\n  (function(spec, embedOpt){\n    let outputDiv = document.currentScript.previousElementSibling;\n    if (outputDiv.id !== \"altair-viz-66518c41df0a4fc0b26a2c366af5b894\") {\n      outputDiv = document.getElementById(\"altair-viz-66518c41df0a4fc0b26a2c366af5b894\");\n    }\n    const paths = {\n      \"vega\": \"https://cdn.jsdelivr.net/npm//vega@5?noext\",\n      \"vega-lib\": \"https://cdn.jsdelivr.net/npm//vega-lib?noext\",\n      \"vega-lite\": \"https://cdn.jsdelivr.net/npm//vega-lite@4.8.1?noext\",\n      \"vega-embed\": \"https://cdn.jsdelivr.net/npm//vega-embed@6?noext\",\n    };\n\n    function loadScript(lib) {\n      return new Promise(function(resolve, reject) {\n        var s = document.createElement('script');\n        s.src = paths[lib];\n        s.async = true;\n        s.onload = () => resolve(paths[lib]);\n        s.onerror = () => reject(`Error loading script: ${paths[lib]}`);\n        document.getElementsByTagName(\"head\")[0].appendChild(s);\n      });\n    }\n\n    function showError(err) {\n      outputDiv.innerHTML = `<div class=\"error\" style=\"color:red;\">${err}</div>`;\n      throw err;\n    }\n\n    function displayChart(vegaEmbed) {\n      vegaEmbed(outputDiv, spec, embedOpt)\n        .catch(err => showError(`Javascript Error: ${err.message}<br>This usually means there's a typo in your chart specification. See the javascript console for the full traceback.`));\n    }\n\n    if(typeof define === \"function\" && define.amd) {\n      requirejs.config({paths});\n      require([\"vega-embed\"], displayChart, err => showError(`Error loading script: ${err.message}`));\n    } else if (typeof vegaEmbed === \"function\") {\n      displayChart(vegaEmbed);\n    } else {\n      loadScript(\"vega\")\n        .then(() => loadScript(\"vega-lite\"))\n        .then(() => loadScript(\"vega-embed\"))\n        .catch(showError)\n        .then(() => displayChart(vegaEmbed));\n    }\n  })({\"config\": {\"view\": {\"continuousWidth\": 400, \"continuousHeight\": 300, \"stroke\": null}}, \"layer\": [{\"data\": {\"sphere\": true}, \"mark\": {\"type\": \"geoshape\", \"fill\": \"rgb(220,220,220)\"}}, {\"data\": {\"url\": \"https://vega.github.io/vega-datasets/data/world-110m.json\", \"format\": {\"feature\": \"countries\", \"type\": \"topojson\"}}, \"mark\": {\"type\": \"geoshape\", \"fill\": \"rgb(255,255,255)\", \"stroke\": \"rgb(220,220,220)\"}}, {\"data\": {\"name\": \"data-9381780b503e999113e778796fbbab70\"}, \"mark\": {\"type\": \"circle\", \"opacity\": 1, \"size\": 100}, \"encoding\": {\"color\": {\"type\": \"nominal\", \"field\": \"Type\"}, \"latitude\": {\"field\": \"Lat\", \"type\": \"quantitative\"}, \"longitude\": {\"field\": \"Long\", \"type\": \"quantitative\"}, \"tooltip\": [{\"type\": \"nominal\", \"field\": \"Name\"}]}}], \"height\": 400, \"projection\": {\"type\": \"naturalEarth1\"}, \"width\": 600, \"$schema\": \"https://vega.github.io/schema/vega-lite/v4.8.1.json\", \"datasets\": {\"data-9381780b503e999113e778796fbbab70\": [{\"Name\": \"Christchurch, New Zealand\", \"Lat\": -43.523672999999995, \"Long\": 172.584118, \"Type\": \"Study\", \"Comments\": null}, {\"Name\": \"Eel River Critical Zone Observatory\", \"Lat\": 39.718345, \"Long\": -123.652625, \"Type\": \"Field\", \"Comments\": null}, {\"Name\": \"Snowy Range\", \"Lat\": 41.343634, \"Long\": -106.21226000000001, \"Type\": \"Field\", \"Comments\": null}, {\"Name\": \"Laramie Range\", \"Lat\": 41.261207, \"Long\": -105.393194, \"Type\": \"Field\", \"Comments\": null}, {\"Name\": \"Gulf of Mexico\", \"Lat\": 27.040012, \"Long\": -92.737999, \"Type\": \"Study\", \"Comments\": null}, {\"Name\": \"Ghana\", \"Lat\": 4.140224, \"Long\": -2.7299439999999997, \"Type\": \"Study\", \"Comments\": null}, {\"Name\": \"Porcupine Basin\", \"Lat\": 50.91004, \"Long\": -12.607474, \"Type\": \"Study\", \"Comments\": null}, {\"Name\": \"Sergipe\", \"Lat\": -11.16054, \"Long\": -36.582305, \"Type\": \"Study\", \"Comments\": null}, {\"Name\": \"French Guiana\", \"Lat\": 6.253583, \"Long\": -51.223347, \"Type\": \"Study\", \"Comments\": null}, {\"Name\": \"Sierra Leone\", \"Lat\": 6.832838000000001, \"Long\": -12.358791, \"Type\": \"Study\", \"Comments\": null}, {\"Name\": \"Offshore Newfoundland\", \"Lat\": 56.149432, \"Long\": -53.327567, \"Type\": \"Study\", \"Comments\": null}, {\"Name\": \"South Africa\", \"Lat\": -35.402522999999995, \"Long\": 17.756566, \"Type\": \"Study\", \"Comments\": null}, {\"Name\": \"Mauritania\", \"Lat\": 17.840142999999998, \"Long\": -17.204083999999998, \"Type\": \"Study\", \"Comments\": null}]}}, {\"mode\": \"vega-lite\"});\n</script>",
      "text/plain": "alt.LayerChart(...)"
     },
     "metadata": {},
     "execution_count": 51
    }
   ],
   "source": [
    "#hide_input\n",
    "\n",
    "# df = pd.read_csv('https://raw.githubusercontent.com/rysarmstr/Data-Bites-Blog/master/data/life.csv')\n",
    "df = pd.read_csv('../data/life.csv')\n",
    "\n",
    "# Data generators for the background\n",
    "sphere = alt.sphere()\n",
    "graticule = alt.graticule()\n",
    "\n",
    "# Source of land data\n",
    "source = alt.topo_feature(data.world_110m.url, 'countries')\n",
    "\n",
    "# Layering and configuring the components\n",
    "background = alt.layer(\n",
    "    alt.Chart(sphere).mark_geoshape(fill='rgb(220,220,220)'),\n",
    "    alt.Chart(source).mark_geoshape(fill='rgb(255,255,255)', stroke='rgb(220,220,220)')\n",
    ").project(\n",
    "    'naturalEarth1'\n",
    ").properties(width=600, height=400).configure_view(stroke=None)\n",
    "points = alt.Chart(df).mark_circle(size=100,opacity=1).encode(\n",
    "    longitude='Long:Q',\n",
    "    latitude='Lat:Q',\n",
    "    color=alt.Color('Type'),\n",
    "    tooltip=['Name:N'])#,'Comment:N'])\n",
    "\n",
    "background+points"
   ]
  },
  {
   "cell_type": "code",
   "execution_count": 9,
   "metadata": {},
   "outputs": [
    {
     "output_type": "execute_result",
     "data": {
      "text/plain": "                                   Name        Lat        Long   Type  \\\n0                      Colorado College  38.848179 -104.824072   Live   \n1     University of Wisconsin – Madison  43.076640  -89.411844   Live   \n2                 University of Wyoming  41.314535 -105.583803   Live   \n3                        Houston, Texas  29.754744  -95.359791  Field   \n4             Christchurch, New Zealand -43.523673  172.584118  Field   \n5   Eel River Critical Zone Observatory  39.718345 -123.652625  Field   \n6                           Snowy Range  41.343634 -106.212260  Field   \n7                         Laramie Range  41.261207 -105.393194  Field   \n8                        Gulf of Mexico  27.040012  -92.737999  Study   \n9                                 Ghana   4.140224   -2.729944  Study   \n10                      Porcupine Basin  50.910040  -12.607474  Study   \n11                              Sergipe -11.160540  -36.582305  Study   \n12                           Mauritania   6.253583  -51.223347  Study   \n13                         Sierra Leone   6.832838  -12.358791  Study   \n14                Offshore Newfoundland  56.149432  -53.327567  Study   \n15                         South Africa -35.402523   17.756566  Study   \n\n    Comments  \n0        NaN  \n1        NaN  \n2        NaN  \n3        NaN  \n4        NaN  \n5        NaN  \n6        NaN  \n7        NaN  \n8        NaN  \n9        NaN  \n10       NaN  \n11       NaN  \n12       NaN  \n13       NaN  \n14       NaN  \n15       NaN  ",
      "text/html": "<div>\n<style scoped>\n    .dataframe tbody tr th:only-of-type {\n        vertical-align: middle;\n    }\n\n    .dataframe tbody tr th {\n        vertical-align: top;\n    }\n\n    .dataframe thead th {\n        text-align: right;\n    }\n</style>\n<table border=\"1\" class=\"dataframe\">\n  <thead>\n    <tr style=\"text-align: right;\">\n      <th></th>\n      <th>Name</th>\n      <th>Lat</th>\n      <th>Long</th>\n      <th>Type</th>\n      <th>Comments</th>\n    </tr>\n  </thead>\n  <tbody>\n    <tr>\n      <th>0</th>\n      <td>Colorado College</td>\n      <td>38.848179</td>\n      <td>-104.824072</td>\n      <td>Live</td>\n      <td>NaN</td>\n    </tr>\n    <tr>\n      <th>1</th>\n      <td>University of Wisconsin – Madison</td>\n      <td>43.076640</td>\n      <td>-89.411844</td>\n      <td>Live</td>\n      <td>NaN</td>\n    </tr>\n    <tr>\n      <th>2</th>\n      <td>University of Wyoming</td>\n      <td>41.314535</td>\n      <td>-105.583803</td>\n      <td>Live</td>\n      <td>NaN</td>\n    </tr>\n    <tr>\n      <th>3</th>\n      <td>Houston, Texas</td>\n      <td>29.754744</td>\n      <td>-95.359791</td>\n      <td>Field</td>\n      <td>NaN</td>\n    </tr>\n    <tr>\n      <th>4</th>\n      <td>Christchurch, New Zealand</td>\n      <td>-43.523673</td>\n      <td>172.584118</td>\n      <td>Field</td>\n      <td>NaN</td>\n    </tr>\n    <tr>\n      <th>5</th>\n      <td>Eel River Critical Zone Observatory</td>\n      <td>39.718345</td>\n      <td>-123.652625</td>\n      <td>Field</td>\n      <td>NaN</td>\n    </tr>\n    <tr>\n      <th>6</th>\n      <td>Snowy Range</td>\n      <td>41.343634</td>\n      <td>-106.212260</td>\n      <td>Field</td>\n      <td>NaN</td>\n    </tr>\n    <tr>\n      <th>7</th>\n      <td>Laramie Range</td>\n      <td>41.261207</td>\n      <td>-105.393194</td>\n      <td>Field</td>\n      <td>NaN</td>\n    </tr>\n    <tr>\n      <th>8</th>\n      <td>Gulf of Mexico</td>\n      <td>27.040012</td>\n      <td>-92.737999</td>\n      <td>Study</td>\n      <td>NaN</td>\n    </tr>\n    <tr>\n      <th>9</th>\n      <td>Ghana</td>\n      <td>4.140224</td>\n      <td>-2.729944</td>\n      <td>Study</td>\n      <td>NaN</td>\n    </tr>\n    <tr>\n      <th>10</th>\n      <td>Porcupine Basin</td>\n      <td>50.910040</td>\n      <td>-12.607474</td>\n      <td>Study</td>\n      <td>NaN</td>\n    </tr>\n    <tr>\n      <th>11</th>\n      <td>Sergipe</td>\n      <td>-11.160540</td>\n      <td>-36.582305</td>\n      <td>Study</td>\n      <td>NaN</td>\n    </tr>\n    <tr>\n      <th>12</th>\n      <td>Mauritania</td>\n      <td>6.253583</td>\n      <td>-51.223347</td>\n      <td>Study</td>\n      <td>NaN</td>\n    </tr>\n    <tr>\n      <th>13</th>\n      <td>Sierra Leone</td>\n      <td>6.832838</td>\n      <td>-12.358791</td>\n      <td>Study</td>\n      <td>NaN</td>\n    </tr>\n    <tr>\n      <th>14</th>\n      <td>Offshore Newfoundland</td>\n      <td>56.149432</td>\n      <td>-53.327567</td>\n      <td>Study</td>\n      <td>NaN</td>\n    </tr>\n    <tr>\n      <th>15</th>\n      <td>South Africa</td>\n      <td>-35.402523</td>\n      <td>17.756566</td>\n      <td>Study</td>\n      <td>NaN</td>\n    </tr>\n  </tbody>\n</table>\n</div>"
     },
     "metadata": {},
     "execution_count": 9
    }
   ],
   "source": []
  }
 ],
 "metadata": {
  "language_info": {
   "codemirror_mode": {
    "name": "ipython",
    "version": 3
   },
   "file_extension": ".py",
   "mimetype": "text/x-python",
   "name": "python",
   "nbconvert_exporter": "python",
   "pygments_lexer": "ipython3",
   "version": "3.7.6-final"
  },
  "orig_nbformat": 2,
  "kernelspec": {
   "name": "python37664bitds37conda5b54538e10044b30b075f62462e020ad",
   "display_name": "Python 3.7.6 64-bit ('ds37': conda)"
  }
 },
 "nbformat": 4,
 "nbformat_minor": 2
}