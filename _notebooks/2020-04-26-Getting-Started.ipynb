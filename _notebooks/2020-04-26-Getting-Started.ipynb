{
 "cells": [
  {
   "cell_type": "markdown",
   "metadata": {},
   "source": [
    "# Getting Started\n",
    "> My recommendations to absolute beginners for getting started quickly on your self-learning journey.\n",
    "\n",
    "- toc: true \n",
    "- badges: true\n",
    "- comments: true\n",
    "- categories: [miniconda, jupyter, vscode, streamlit, FastAI, Kaggle, Coursera]"
   ]
  },
  {
   "cell_type": "markdown",
   "metadata": {},
   "source": [
    "## Intro\n",
    "\n",
    "Hello, World! In my first real post I wanted to share some thoughts about resources for getting started in Python or data science. This has been nearly a 3 year process for me and could have been done much more effeciently - I'll point out a few of the ways I would do things differently if I were restarting today. Hopefully some of these tips can be helpful to others who are learning data science concepts at their own pace. I will try to keep this post updated with new resources as I find them. Keep in mind, as I'm learning as we go so these comments will no doubt be incomplete. If you've been through this process and have recommendations for things to improve or change please share them in the comments!"
   ]
  },
  {
   "cell_type": "markdown",
   "metadata": {},
   "source": [
    "## Python Install and Package Management\n",
    "\n",
    "TLDR: Read [Ted Petrou's \"Anaconda is bloated.\"](https://medium.com/dunder-data/anaconda-is-bloated-set-up-a-lean-robust-data-science-environment-with-miniconda-and-conda-forge-b48e1ac11646)\n",
    "\n",
    "First things first... 99% of what I write here will be about Python. As most beginners probably do, I started off by downloading [Anaconda Navigator](https://www.anaconda.com/) to keep things simple. The first mistake I made - against the [advice](https://protostar.space/why-you-need-python-environments-and-how-to-manage-them-with-conda) of many experienced python users - was to not using python environments from the beginning. As I learned about package management and different versions of Python there were a few instances where I ended up with a messy environment and decided I wanted to restart. The simplest thing to me *seemed* to be (not in reality) a reinstall of Python. Long story short, I spent way more time fumbling my way through breaking and recreating my conda environments instead using that time to learn the actual packages. Eventually, I stumbled across [Ted Petrou's \"Anaconda is bloated\"](https://medium.com/dunder-data/anaconda-is-bloated-set-up-a-lean-robust-data-science-environment-with-miniconda-and-conda-forge-b48e1ac11646), which gives a fantastic overview of how to get a quick, effective data science set-up running in Python. Pairing this with a program like [Visual Studio Code](https://code.visualstudio.com/) can get you up and running quickly with the ability to start over easily when/if the time comes. Next let's talk a bit about interfaces."
   ]
  },
  {
   "cell_type": "markdown",
   "metadata": {},
   "source": [
    "## User Interface ([IDE](https://en.wikipedia.org/wiki/Integrated_development_environment)) Selection\n",
    "\n",
    "TLDR: If starting over today I would install [Jupyter](https://jupyter.org/) Notebooks, but use [Visual Studio Code](https://code.visualstudio.com/) as my daily interface. VS Code is a great text editor, but also gives you the power of IPython Notebooks and the freedom to experiment with other innovative interfaces like [Streamlit](https://www.streamlit.io/).\n",
    "\n",
    "Of course, you can always write Python code in a simple text editor and run your scripts from terminal, but modern IDEs offer a lot of built in efficiencies. When I started down the path of learning Python, the idea of not having an official IDE, like MATLAB or RStudio, made me a little squeamish. I jumped straight into [Jupyter](https://jupyter.org/) Notebooks for the simplicity and was ecstatic when I learned about Jupyter Labs, which takes the interactivity of Jupyter Notebooks a step closer to the full IDE experience. The [IPython Notebook](https://ipython.org/ipython-doc/1/interactive/notebook.html), which is that basis for the Jupyter system is widely used across data science platforms like [Kaggle](https://www.kaggle.com/) and [Coursera](https://www.coursera.org/), which makes the transition from your machine to other platforms more seamless. The only thing I didn't like about the Jupyter environment was that I was locked into that interface.\n",
    "\n",
    "What pushed me to try the oft-recommended [VSCode](https://code.visualstudio.com/) was the introduction of a new interactive interface called [Streamlit](https://www.streamlit.io/) (more on Streamlit in a bit). In order to try Streamlit I needed a text editor that was separate from Jupyter Notebooks. What I found in VSCode was a text editor that runs IPython Notebooks, has a built in terminal for package/environment management (or git), and of course efficiently edits text files. I'm still learning many of the creative editing shortcuts and I'm sure I am not using the extensions to their full capability, but VS Code has become my primary workspace.\n",
    "\n",
    "Lastly, I'll touch on [Streamlit](https://www.streamlit.io/), a relatively new interface with a completely different take on interactive code. Streamlit runs the full code of your python script on every pass unlike IPython Notebooks which execute a single cell at a time. Streamlit allows compute-intensive functions to be cached so that they don't need to be re-run over and over. The shining feature that made me fall in love with Streamlit is its ability to add interactive features like buttons, sliders, dropdowns, or text input with a single line of code. These features make data exploration *much* faster in Streamlit and also provide a framework to build simple apps for people looking to deploy ML algorithms quickly. This [video](https://www.youtube.com/watch?v=B2iAodr0fOo&t=126s) from the co-founder and CEO gives a great introduction to the interface."
   ]
  },
  {
   "cell_type": "markdown",
   "metadata": {},
   "source": [
    "## Courses, Podcasts, and Other resources\n",
    "\n",
    "TLDR: Sites like [Kaggle](https://www.kaggle.com/) that incentivize project building are a great place to start. Fill in knowledge gaps with resources like courses, but don't fall into the trap of doing courses endlessly with no applied experience.\n",
    "\n",
    "I have spent the last 3 years or so learning python and then expanding into the world of machine learning and now deep learning. I can't say that it's been the most efficient process and I think an important take away is prioritizing efficiency when choosing your learning path. Not everyone has the same amount of time to dedicate. While a bootcamp might get you where you want to be in 6 months, it can be a large time (and monetary) commitment. [Career Karma](https://careerkarma.com/) is an interesting place to start if you are interested in bootcamps but don't know where to start. For the rest of us, Dan Becker (creator of Kaggle Learn) explains in [this episode of \"Chai Time Data Science\"](https://anchor.fm/chaitimedatascience/episodes/CEO-of-Decision-ai-Dan-Becker--What-does-it-take-to-become-a-Data-Scientist---Kaggle-Learn--Data-Science-Portfolio-eb631q/a-a1k35ik) that the first priority for anyone looking to move into a data science career should be building projects. Keeping that in mind, below you will find some of my favorite resources split out into those that are more conducive to building things quickly and others that are more helpful when you need to take a step back and just absorb some of the technical details. I'll leave it up to you to prioritize these in a way that works for you.\n",
    "\n",
    "**Quick hitters:**\n",
    "* [SoloLearn](https://www.sololearn.com/) - Learn syntax for Python (don't spend too much time here!)\n",
    "* [Agile Geoscience Kata (for the geologically-inclined)](https://ageo.co/kata) - These small coding challenges are a great way to learn some python basics, especially if you are a geoscientist who works with subsurface data. Likely not as useful for others.\n",
    "* [Kaggle Learn](https://www.kaggle.com/learn/overview) - these courses have been specifically designed to get users into real use case examples of how machine learning is used to solve problems. The lessons are short, practical, and don't dwell on the details, but are enough to get you building. Coursera (see below) is a great alternative for more detailed learning.\n",
    "* [FastAI](https://course.fast.ai/) - FastAI is organized in a similar way to Kaggle Learn. Jeremy Howard gets you training deep neural networks within [the first video lecture](https://course.fast.ai/videos/?lesson=1) and provides insights along the way. Again, Coursera is an alternative reference if you eventually want to learn to build your own networks from scratch.\n",
    "* [TWIML Podcast](https://twimlai.com/) - The TWIML AI podcast offers a large catalog of interviews with data scientists applying ML/DL. These may be difficult to follow along until you have a bit of experience, but the TWIML AI community also offers study groups and other resources that you may find useful.\n",
    "* [Kaggle Competitions](https://www.kaggle.com/) - As your skillset grows you can start applying what you are learning and discussing your results with the helpful community on Kaggle. My personal favorite is the yearly [March Madness](https://www.kaggle.com/c/google-cloud-ncaa-march-madness-2020-division-1-mens-tournament) competition, which was unfortunately cancelled due to the Covid-19 pandemic. Will try again next year!\n",
    "\n",
    "**More Detailed/Traditional Learning**\n",
    "* [Machine Learning Guide (Podcast)](http://ocdevel.com/mlg) - Very high level overviews of data science and types of languages/algorithms. Similar content can be found on the web, but this may be a useful resource if you are a beginner looking for something to listen to on your commute or when you can't be on a computer.\n",
    "* [Coursera](https://www.coursera.org/) - If you need more detail than Kaggle Learn the applied lessons, there is a lot of content on Coursera. A few examples of commonly recommended courses:\n",
    "    * [Python for Everybody](https://www.coursera.org/specializations/python#courses) - The first few courses of this specialization will give you a crash course in python. It will provide more detail and active learning than something like SoloLearn, which is designed to be short and sweet.\n",
    "    * [Machine Learning](https://www.coursera.org/learn/machine-learning#syllabus) great content as an introduction to the fundamentals of machine learning, but unfortunately taught in Octave or MATLAB. There is significant overlap between this course and the Deep Learning course below - you may actually try that first and see if you need to back track.\n",
    "    * [Deep Learning](https://www.coursera.org/specializations/deep-learning#courses) - This course will introduce fundamental concepts related to building and training deep neural networks. Expect more theory and free-form coding than the FastAI course. As you get into coding in TensorFlow, [this intro to TensorFlow fundamentals](https://github.com/kevinjliang/Duke-Tsinghua-MLSS-2017/blob/master/01B_TensorFlow_Fundamentals.ipynb) is also very useful document.\n",
    "\n",
    "Hopefully, these resources can be of help or at least get you moving in the right direction as you start your personal data science journey!\n"
   ]
  },
  {
   "cell_type": "markdown",
   "metadata": {},
   "source": []
  }
 ],
 "metadata": {
  "language_info": {
   "codemirror_mode": {
    "name": "ipython",
    "version": 3
   },
   "file_extension": ".py",
   "mimetype": "text/x-python",
   "name": "python",
   "nbconvert_exporter": "python",
   "pygments_lexer": "ipython3",
   "version": 3
  },
  "orig_nbformat": 2
 },
 "nbformat": 4,
 "nbformat_minor": 2
}